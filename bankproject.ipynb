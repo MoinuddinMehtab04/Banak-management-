{
 "cells": [
  {
   "cell_type": "code",
   "execution_count": null,
   "id": "178c916c-0a5f-4463-9d8d-b628540cf6c1",
   "metadata": {},
   "outputs": [
    {
     "name": "stdout",
     "output_type": "stream",
     "text": [
      "Welcome to the Banking System!\n"
     ]
    },
    {
     "name": "stdin",
     "output_type": "stream",
     "text": [
      "Enter your name:  moin qureshi\n",
      "Enter initial balance:  0.0\n"
     ]
    },
    {
     "name": "stdout",
     "output_type": "stream",
     "text": [
      "Account created for moin qureshi with a balance of $0.00\n",
      "\n",
      "Choose an option:\n",
      "1. Deposit\n",
      "2. Withdraw\n",
      "3. Check Balance\n",
      "4. Print Statement\n",
      "5. Exit\n"
     ]
    },
    {
     "name": "stdin",
     "output_type": "stream",
     "text": [
      "Enter your choice:  1\n",
      "Enter deposit amount:  30000\n"
     ]
    },
    {
     "name": "stdout",
     "output_type": "stream",
     "text": [
      "Deposit: $30000.00 | New Balance: $30000.00\n",
      "Choose an option:\n",
      "1. Deposit\n",
      "2. Withdraw\n",
      "3. Check Balance\n",
      "4. Print Statement\n",
      "5. Exit\n"
     ]
    },
    {
     "name": "stdin",
     "output_type": "stream",
     "text": [
      "Enter your choice:  2\n",
      "Enter withdrawal amount:  2000\n"
     ]
    },
    {
     "name": "stdout",
     "output_type": "stream",
     "text": [
      "Withdrawal: $2000.00 | New Balance: $28000.00\n",
      "Choose an option:\n",
      "1. Deposit\n",
      "2. Withdraw\n",
      "3. Check Balance\n",
      "4. Print Statement\n",
      "5. Exit\n"
     ]
    },
    {
     "name": "stdin",
     "output_type": "stream",
     "text": [
      "Enter your choice:  2\n",
      "Enter withdrawal amount:  2000\n"
     ]
    },
    {
     "name": "stdout",
     "output_type": "stream",
     "text": [
      "Withdrawal: $2000.00 | New Balance: $26000.00\n",
      "Choose an option:\n",
      "1. Deposit\n",
      "2. Withdraw\n",
      "3. Check Balance\n",
      "4. Print Statement\n",
      "5. Exit\n"
     ]
    },
    {
     "name": "stdin",
     "output_type": "stream",
     "text": [
      "Enter your choice:  2\n",
      "Enter withdrawal amount:  5000\n"
     ]
    },
    {
     "name": "stdout",
     "output_type": "stream",
     "text": [
      "Withdrawal: $5000.00 | New Balance: $21000.00\n",
      "Choose an option:\n",
      "1. Deposit\n",
      "2. Withdraw\n",
      "3. Check Balance\n",
      "4. Print Statement\n",
      "5. Exit\n"
     ]
    },
    {
     "name": "stdin",
     "output_type": "stream",
     "text": [
      "Enter your choice:  1\n",
      "Enter deposit amount:  4000\n"
     ]
    },
    {
     "name": "stdout",
     "output_type": "stream",
     "text": [
      "Deposit: $4000.00 | New Balance: $25000.00\n",
      "Choose an option:\n",
      "1. Deposit\n",
      "2. Withdraw\n",
      "3. Check Balance\n",
      "4. Print Statement\n",
      "5. Exit\n"
     ]
    },
    {
     "name": "stdin",
     "output_type": "stream",
     "text": [
      "Enter your choice:  2\n",
      "Enter withdrawal amount:  4000\n"
     ]
    },
    {
     "name": "stdout",
     "output_type": "stream",
     "text": [
      "Withdrawal: $4000.00 | New Balance: $21000.00\n",
      "Choose an option:\n",
      "1. Deposit\n",
      "2. Withdraw\n",
      "3. Check Balance\n",
      "4. Print Statement\n",
      "5. Exit\n"
     ]
    },
    {
     "name": "stdin",
     "output_type": "stream",
     "text": [
      "Enter your choice:  1\n",
      "Enter deposit amount:  4000\n"
     ]
    },
    {
     "name": "stdout",
     "output_type": "stream",
     "text": [
      "Deposit: $4000.00 | New Balance: $25000.00\n",
      "Choose an option:\n",
      "1. Deposit\n",
      "2. Withdraw\n",
      "3. Check Balance\n",
      "4. Print Statement\n",
      "5. Exit\n"
     ]
    },
    {
     "name": "stdin",
     "output_type": "stream",
     "text": [
      "Enter your choice:  3\n"
     ]
    },
    {
     "name": "stdout",
     "output_type": "stream",
     "text": [
      "Current balance: $25000.00\n",
      "Choose an option:\n",
      "1. Deposit\n",
      "2. Withdraw\n",
      "3. Check Balance\n",
      "4. Print Statement\n",
      "5. Exit\n"
     ]
    },
    {
     "name": "stdin",
     "output_type": "stream",
     "text": [
      "Enter your choice:  4\n"
     ]
    },
    {
     "name": "stdout",
     "output_type": "stream",
     "text": [
      "\n",
      "Account Statement for moin qureshi\n",
      "\n",
      "Deposit: $30000.00 | New Balance: $30000.00\n",
      "Withdrawal: $2000.00 | New Balance: $28000.00\n",
      "Withdrawal: $2000.00 | New Balance: $26000.00\n",
      "Withdrawal: $5000.00 | New Balance: $21000.00\n",
      "Deposit: $4000.00 | New Balance: $25000.00\n",
      "Withdrawal: $4000.00 | New Balance: $21000.00\n",
      "Deposit: $4000.00 | New Balance: $25000.00\n",
      "\n",
      "Final Balance: $25000.00\n",
      "\n",
      "Choose an option:\n",
      "1. Deposit\n",
      "2. Withdraw\n",
      "3. Check Balance\n",
      "4. Print Statement\n",
      "5. Exit\n"
     ]
    },
    {
     "name": "stdout",
     "output_type": "stream",
     "text": [
      "Account created for moin mehtab with a balance of $0.00\n",
      "\n",
      "Choose an option:\n",
      "1. Deposit\n",
      "2. Withdraw\n",
      "3. Check Balance\n",
      "4. Print Statement\n",
      "5. Exit\n"
     ]
    },
    {
     "name": "stdout",
     "output_type": "stream",
     "text": [
      "Enter your choice:  1\n",
      "Enter deposit amount:  40000\n"
     ]
    },
    {
     "name": "stdout",
     "output_type": "stream",
     "text": [
      "Deposit: $40000.00 | New Balance: $40000.00\n",
      "Choose an option:\n",
      "1. Deposit\n",
      "2. Withdraw\n",
      "3. Check Balance\n",
      "4. Print Statement\n",
      "5. Exit\n"
     ]
    },
    {
     "name": "stdout",
     "output_type": "stream",
     "text": [
      "Enter your choice:  2\n",
      "Enter withdrawal amount:  2000\n"
     ]
    },
    {
     "name": "stdout",
     "output_type": "stream",
     "text": [
      "Withdrawal: $2000.00 | New Balance: $38000.00\n",
      "Choose an option:\n",
      "1. Deposit\n",
      "2. Withdraw\n",
      "3. Check Balance\n",
      "4. Print Statement\n",
      "5. Exit\n"
     ]
    },
    {
     "name": "stdout",
     "output_type": "stream",
     "text": [
      "Enter your choice:  2\n",
      "Enter withdrawal amount:  4000\n"
     ]
    },
    {
     "name": "stdout",
     "output_type": "stream",
     "text": [
      "Withdrawal: $4000.00 | New Balance: $34000.00\n",
      "Choose an option:\n",
      "1. Deposit\n",
      "2. Withdraw\n",
      "3. Check Balance\n",
      "4. Print Statement\n",
      "5. Exit\n"
     ]
    },
    {
     "name": "stdout",
     "output_type": "stream",
     "text": [
      "Enter your choice:  1\n",
      "Enter deposit amount:  6000\n"
     ]
    },
    {
     "name": "stdout",
     "output_type": "stream",
     "text": [
      "Deposit: $6000.00 | New Balance: $40000.00\n",
      "Choose an option:\n",
      "1. Deposit\n",
      "2. Withdraw\n",
      "3. Check Balance\n",
      "4. Print Statement\n",
      "5. Exit\n"
     ]
    },
    {
     "name": "stdout",
     "output_type": "stream",
     "text": [
      "Enter your choice:  3\n"
     ]
    },
    {
     "name": "stdout",
     "output_type": "stream",
     "text": [
      "Current balance: $40000.00\n",
      "Choose an option:\n",
      "1. Deposit\n",
      "2. Withdraw\n",
      "3. Check Balance\n",
      "4. Print Statement\n",
      "5. Exit\n"
     ]
    },
    {
     "name": "stdout",
     "output_type": "stream",
     "text": [
      "Enter your choice:  4\n"
     ]
    },
    {
     "name": "stdout",
     "output_type": "stream",
     "text": [
      "\n",
      "Account Statement for moin mehtab\n",
      "\n",
      "Deposit: $40000.00 | New Balance: $40000.00\n",
      "Withdrawal: $2000.00 | New Balance: $38000.00\n",
      "Withdrawal: $4000.00 | New Balance: $34000.00\n",
      "Deposit: $6000.00 | New Balance: $40000.00\n",
      "\n",
      "Final Balance: $40000.00\n",
      "\n",
      "Choose an option:\n",
      "1. Deposit\n",
      "2. Withdraw\n",
      "3. Check Balance\n",
      "4. Print Statement\n",
      "5. Exit\n"
     ]
    },
    {
     "name": "stdout",
     "output_type": "stream",
     "text": [
      "Enter your choice:  6\n"
     ]
    },
    {
     "name": "stdout",
     "output_type": "stream",
     "text": [
      "Invalid choice. Please select a valid option.\n",
      "Choose an option:\n",
      "1. Deposit\n",
      "2. Withdraw\n",
      "3. Check Balance\n",
      "4. Print Statement\n",
      "5. Exit\n"
     ]
    },
    {
     "name": "stdout",
     "output_type": "stream",
     "text": [
      "Enter your choice:  5\n"
     ]
    },
    {
     "name": "stdout",
     "output_type": "stream",
     "text": [
      "Thank you for using the Banking System. Goodbye!\n"
     ]
    }
   ],
   "source": [
    "import os\n",
    "from datetime import datetime\n",
    "\n",
    "# Function to read transactions from a file with the current date and time\n",
    "def read_transactions():\n",
    "    if not os.path.exists(\"transactions.txt\"):\n",
    "        return []\n",
    "    \n",
    "    # Get the current date and time\n",
    "    current_time = datetime.now().strftime(\"%Y-%m-%d %H:%M:%S\")\n",
    "    \n",
    "    with open(\"transactions.txt\", \"r\") as file:\n",
    "        transactions = file.readlines()\n",
    "    return [f\"{current_time} - {transaction.strip()}\" for transaction in transactions]\n",
    "\n",
    "# Function to write a transaction to a file\n",
    "def write_transaction(transaction):\n",
    "    with open(\"transactions.txt\", \"a\") as file:\n",
    "        file.write(transaction + \"\\n\")\n",
    "\n",
    "# Function to create a new account\n",
    "def create_account(name, initial_balance=0.0):\n",
    "    account = {\n",
    "        \"name\": name,\n",
    "        \"balance\": initial_balance,\n",
    "        \"transactions\": []\n",
    "    }\n",
    "    return account\n",
    "\n",
    "# Function to deposit money into the account\n",
    "def deposit(account, amount):\n",
    "    if amount <= 0:\n",
    "        print(\"Deposit amount must be positive.\")\n",
    "        return account\n",
    "\n",
    "    account[\"balance\"] += amount\n",
    "    transaction = f\"Deposit: ${amount:.2f} | New Balance: ${account['balance']:.2f}\"\n",
    "    account[\"transactions\"].append(transaction)\n",
    "    write_transaction(transaction)\n",
    "    print(transaction)\n",
    "    return account\n",
    "\n",
    "# Function to withdraw money from the account\n",
    "def withdraw(account, amount):\n",
    "    if amount <= 0:\n",
    "        print(\"Withdrawal amount must be positive.\")\n",
    "        return account\n",
    "\n",
    "    if amount > account[\"balance\"]:\n",
    "        print(\"Insufficient funds. Withdrawal denied.\")\n",
    "        return account\n",
    "\n",
    "    account[\"balance\"] -= amount\n",
    "    transaction = f\"Withdrawal: ${amount:.2f} | New Balance: ${account['balance']:.2f}\"\n",
    "    account[\"transactions\"].append(transaction)\n",
    "    write_transaction(transaction)\n",
    "    print(transaction)\n",
    "    return account\n",
    "\n",
    "# Function to check the balance\n",
    "def check_balance(account):\n",
    "    print(f\"Current balance: ${account['balance']:.2f}\")\n",
    "    return account[\"balance\"]\n",
    "\n",
    "# Function to print the account statement\n",
    "def print_statement(account):\n",
    "    print(f\"\\nAccount Statement for {account['name']}\\n\")\n",
    "    if not account[\"transactions\"]:\n",
    "        print(\"No transactions available.\")\n",
    "    else:\n",
    "        for transaction in account[\"transactions\"]:\n",
    "            print(transaction)\n",
    "    print(f\"\\nFinal Balance: ${account['balance']:.2f}\\n\")\n",
    "\n",
    "def main():\n",
    "    print(\"Welcome to the Banking System!\")\n",
    "    name = input(\"Enter your name: \")\n",
    "    try:\n",
    "        initial_balance = float(input(\"Enter initial balance: \"))\n",
    "    except ValueError:\n",
    "        print(\"Invalid input. Setting initial balance to $0.0.\")\n",
    "        initial_balance = 0.0\n",
    "\n",
    "    # Create the user account\n",
    "    account = create_account(name, initial_balance)\n",
    "    print(f\"Account created for {name} with a balance of ${initial_balance:.2f}\\n\")\n",
    "\n",
    "    while True:\n",
    "        print(\"Choose an option:\")\n",
    "        print(\"1. Deposit\")\n",
    "        print(\"2. Withdraw\")\n",
    "        print(\"3. Check Balance\")\n",
    "        print(\"4. Print Statement\")\n",
    "        print(\"5. Exit\")\n",
    "\n",
    "        choice = input(\"Enter your choice: \")\n",
    "\n",
    "        if choice == \"1\":\n",
    "            try:\n",
    "                amount = float(input(\"Enter deposit amount: \"))\n",
    "                account = deposit(account, amount)\n",
    "            except ValueError:\n",
    "                print(\"Invalid input. Please enter a number.\")\n",
    "        elif choice == \"2\":\n",
    "            try:\n",
    "                amount = float(input(\"Enter withdrawal amount: \"))\n",
    "                account = withdraw(account, amount)\n",
    "            except ValueError:\n",
    "                print(\"Invalid input. Please enter a number.\")\n",
    "        elif choice == \"3\":\n",
    "            check_balance(account)\n",
    "        elif choice == \"4\":\n",
    "            print_statement(account)\n",
    "        elif choice == \"5\":\n",
    "            print(\"Thank you for using the Banking System. Goodbye!\")\n",
    "            break\n",
    "        else:\n",
    "            print(\"Invalid choice. Please select a valid option.\")\n",
    "\n",
    "if __name__ == \"__main__\":\n",
    "    main()\n"
   ]
  },
  {
   "cell_type": "code",
   "execution_count": null,
   "id": "68eef569-02cf-42d9-a440-84e6f50e1b1e",
   "metadata": {},
   "outputs": [],
   "source": []
  }
 ],
 "metadata": {
  "kernelspec": {
   "display_name": "Python 3 (ipykernel)",
   "language": "python",
   "name": "python3"
  },
  "language_info": {
   "codemirror_mode": {
    "name": "ipython",
    "version": 3
   },
   "file_extension": ".py",
   "mimetype": "text/x-python",
   "name": "python",
   "nbconvert_exporter": "python",
   "pygments_lexer": "ipython3",
   "version": "3.12.7"
  }
 },
 "nbformat": 4,
 "nbformat_minor": 5
}
